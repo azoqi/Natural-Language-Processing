{
  "nbformat": 4,
  "nbformat_minor": 0,
  "metadata": {
    "colab": {
      "provenance": [],
      "authorship_tag": "ABX9TyMrPRZT83SFR/0FdbhWvTrx",
      "include_colab_link": true
    },
    "kernelspec": {
      "name": "python3",
      "display_name": "Python 3"
    },
    "language_info": {
      "name": "python"
    }
  },
  "cells": [
    {
      "cell_type": "markdown",
      "metadata": {
        "id": "view-in-github",
        "colab_type": "text"
      },
      "source": [
        "<a href=\"https://colab.research.google.com/github/azoqi/Natural-Language-Processing/blob/main/ClassCoding3.ipynb\" target=\"_parent\"><img src=\"https://colab.research.google.com/assets/colab-badge.svg\" alt=\"Open In Colab\"/></a>"
      ]
    },
    {
      "cell_type": "markdown",
      "source": [
        "Problem: we would like to implement a simple spell checker. We want to let our user type a sentence in English, and then print the most likely correct spelling of every word in the sentence.\n",
        "\n",
        "Requirements: write a Python program that implements Min Edit Distance for string comparisons. You should accept one line of text typed on the terminal, tokenize that line of text to separate individual words, and then select the most likely correct spelling of each word in the sentence. You should use this list of 10,000 common English words to locate correct spellings: https://apiacoa.org/publications/teaching/datasets/google-10000-english.txtLinks to an external site.. Use Min Edit Distance to select the most similar word in the list for each word the user typed. Your program should print the most likely correct sentence."
      ],
      "metadata": {
        "id": "vdMDZIPIbs50"
      }
    },
    {
      "cell_type": "code",
      "execution_count": 1,
      "metadata": {
        "id": "RSfgIElfbqEI"
      },
      "outputs": [],
      "source": [
        "import requests\n",
        "import string"
      ]
    },
    {
      "cell_type": "code",
      "source": [
        "#Downloads the list of words from the URL.\n",
        "#Assumes each line of the response is a word.\n",
        "#Returns a list of lower-cased words.\n",
        "def load_dictionary(url):\n",
        "    response = requests.get(url)\n",
        "    words = response.text.splitlines()\n",
        "    return [word.strip().lower() for word in words if word.strip()]"
      ],
      "metadata": {
        "id": "IiCXX6aIcSdb"
      },
      "execution_count": 2,
      "outputs": []
    },
    {
      "cell_type": "code",
      "source": [
        "#Compute the Levenshtein (minimum edit) distance between strings s and t.\n",
        "def edit_distance(s, t):\n",
        "    m, n = len(s), len(t)\n",
        "    # Create a (m+1) x (n+1) matrix.\n",
        "    dp = [[0] * (n + 1) for _ in range(m + 1)]\n",
        "\n",
        "    # Initialize the first column and first row.\n",
        "    for i in range(m + 1):\n",
        "        dp[i][0] = i\n",
        "    for j in range(n + 1):\n",
        "        dp[0][j] = j\n",
        "\n",
        "    # Fill in the matrix.\n",
        "    for i in range(1, m + 1):\n",
        "        for j in range(1, n + 1):\n",
        "            if s[i - 1] == t[j - 1]:\n",
        "                cost = 0\n",
        "            else:\n",
        "                cost = 1\n",
        "            dp[i][j] = min(\n",
        "                dp[i - 1][j] + 1,      # deletion\n",
        "                dp[i][j - 1] + 1,      # insertion\n",
        "                dp[i - 1][j - 1] + cost  # substitution\n",
        "            )\n",
        "    return dp[m][n]\n"
      ],
      "metadata": {
        "id": "5C7E6upHcknw"
      },
      "execution_count": 3,
      "outputs": []
    },
    {
      "cell_type": "code",
      "source": [
        "#Given a word and the dictionary (a list of words),\n",
        "#return the dictionary word with the smallest edit distance.\n",
        "#If there is a tie, the first encountered candidate is returned.\n",
        "def correct_word(word, dictionary):\n",
        "    # If the word is already in the dictionary, return it immediately.\n",
        "    if word in dictionary:\n",
        "        return word\n",
        "\n",
        "    best_candidate = word\n",
        "    best_distance = float('inf')\n",
        "    for candidate in dictionary:\n",
        "        dist = edit_distance(word, candidate)\n",
        "        if dist < best_distance:\n",
        "            best_distance = dist\n",
        "            best_candidate = candidate\n",
        "    return best_candidate"
      ],
      "metadata": {
        "id": "mR2TH8bycz4w"
      },
      "execution_count": 4,
      "outputs": []
    },
    {
      "cell_type": "code",
      "source": [
        "def main():\n",
        "    dict_url = \"https://apiacoa.org/publications/teaching/datasets/google-10000-english.txt\"\n",
        "    dictionary = load_dictionary(dict_url)\n",
        "    dictionary_set = set(dictionary)\n",
        "\n",
        "    sentence = input(\"Enter a sentence: \")\n",
        "    tokens = sentence.split()\n",
        "    corrected_tokens = []\n",
        "\n",
        "    for token in tokens:\n",
        "        stripped = token.strip(string.punctuation).lower()\n",
        "        if not stripped:\n",
        "            corrected_tokens.append(token)\n",
        "            continue\n",
        "        if stripped in dictionary_set:\n",
        "            corrected = stripped\n",
        "        else:\n",
        "            corrected = correct_word(stripped, dictionary)\n",
        "        corrected_tokens.append(corrected)\n",
        "\n",
        "    # Reconstruct and print the corrected sentence.\n",
        "    corrected_sentence = \" \".join(corrected_tokens)\n",
        "    print(\"\\nMost likely correct sentence:\")\n",
        "    print(corrected_sentence)\n",
        "\n",
        "if __name__ == \"__main__\":\n",
        "    main()"
      ],
      "metadata": {
        "colab": {
          "base_uri": "https://localhost:8080/"
        },
        "id": "nawHdhRUdBzq",
        "outputId": "c3539c2f-4118-4797-c0a9-5268e38b2efb"
      },
      "execution_count": 6,
      "outputs": [
        {
          "output_type": "stream",
          "name": "stdout",
          "text": [
            "Enter a sentence: hello worfd\n",
            "\n",
            "Most likely correct sentence:\n",
            "hello world\n"
          ]
        }
      ]
    }
  ]
}